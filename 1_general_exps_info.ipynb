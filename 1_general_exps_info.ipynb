{
 "cells": [
  {
   "cell_type": "markdown",
   "source": [
    "# General info\n",
    "\n",
    "Description of what data we have"
   ],
   "metadata": {
    "collapsed": false
   }
  },
  {
   "cell_type": "code",
   "execution_count": 3,
   "outputs": [],
   "source": [
    "import pandas as pd\n",
    "from local.helpers import get_connection\n",
    "\n",
    "conn = get_connection()\n",
    "conn_gray = get_connection('thesis_gray')"
   ],
   "metadata": {
    "collapsed": false,
    "pycharm": {
     "name": "#%%\n"
    }
   }
  },
  {
   "cell_type": "markdown",
   "source": [
    "### thesis_clean database\n",
    "Database with binary encoding + old experiments"
   ],
   "metadata": {
    "collapsed": false
   }
  },
  {
   "cell_type": "code",
   "execution_count": 12,
   "outputs": [
    {
     "data": {
      "text/plain": "                     f_alias  exp_num      series  \\\n0           almost_spherical      304      sep_do   \n1  inverted_hamming_distance      750  nov_main_2   \n2           positive_ackleys      567      sep_do   \n3         shifted_rastrigins      750  nov_main_1   \n4                   sigma_10      750  nov_main_2   \n5                  sigma_100      750  nov_main_2   \n6                  spherical      750  nov_main_1   \n7                square_root      750  nov_main_1   \n8                        x_6      750  nov_main_1   \n\n                                           sel_types  \n0  rws, sus, tournament_12, tournament_2, tournam...  \n1  ranking, sus, tournament_10, tournament_2, tou...  \n2  rws, sus, tournament_12, tournament_2, tournam...  \n3  ranking, sus, tournament_10, tournament_2, tou...  \n4  ranking, sus, tournament_10, tournament_2, tou...  \n5  ranking, sus, tournament_10, tournament_2, tou...  \n6  ranking, sus, tournament_10, tournament_2, tou...  \n7  ranking, sus, tournament_10, tournament_2, tou...  \n8  ranking, sus, tournament_10, tournament_2, tou...  ",
      "text/html": "<div>\n<style scoped>\n    .dataframe tbody tr th:only-of-type {\n        vertical-align: middle;\n    }\n\n    .dataframe tbody tr th {\n        vertical-align: top;\n    }\n\n    .dataframe thead th {\n        text-align: right;\n    }\n</style>\n<table border=\"1\" class=\"dataframe\">\n  <thead>\n    <tr style=\"text-align: right;\">\n      <th></th>\n      <th>f_alias</th>\n      <th>exp_num</th>\n      <th>series</th>\n      <th>sel_types</th>\n    </tr>\n  </thead>\n  <tbody>\n    <tr>\n      <th>0</th>\n      <td>almost_spherical</td>\n      <td>304</td>\n      <td>sep_do</td>\n      <td>rws, sus, tournament_12, tournament_2, tournam...</td>\n    </tr>\n    <tr>\n      <th>1</th>\n      <td>inverted_hamming_distance</td>\n      <td>750</td>\n      <td>nov_main_2</td>\n      <td>ranking, sus, tournament_10, tournament_2, tou...</td>\n    </tr>\n    <tr>\n      <th>2</th>\n      <td>positive_ackleys</td>\n      <td>567</td>\n      <td>sep_do</td>\n      <td>rws, sus, tournament_12, tournament_2, tournam...</td>\n    </tr>\n    <tr>\n      <th>3</th>\n      <td>shifted_rastrigins</td>\n      <td>750</td>\n      <td>nov_main_1</td>\n      <td>ranking, sus, tournament_10, tournament_2, tou...</td>\n    </tr>\n    <tr>\n      <th>4</th>\n      <td>sigma_10</td>\n      <td>750</td>\n      <td>nov_main_2</td>\n      <td>ranking, sus, tournament_10, tournament_2, tou...</td>\n    </tr>\n    <tr>\n      <th>5</th>\n      <td>sigma_100</td>\n      <td>750</td>\n      <td>nov_main_2</td>\n      <td>ranking, sus, tournament_10, tournament_2, tou...</td>\n    </tr>\n    <tr>\n      <th>6</th>\n      <td>spherical</td>\n      <td>750</td>\n      <td>nov_main_1</td>\n      <td>ranking, sus, tournament_10, tournament_2, tou...</td>\n    </tr>\n    <tr>\n      <th>7</th>\n      <td>square_root</td>\n      <td>750</td>\n      <td>nov_main_1</td>\n      <td>ranking, sus, tournament_10, tournament_2, tou...</td>\n    </tr>\n    <tr>\n      <th>8</th>\n      <td>x_6</td>\n      <td>750</td>\n      <td>nov_main_1</td>\n      <td>ranking, sus, tournament_10, tournament_2, tou...</td>\n    </tr>\n  </tbody>\n</table>\n</div>"
     },
     "execution_count": 12,
     "metadata": {},
     "output_type": "execute_result"
    }
   ],
   "source": [
    "pd.read_sql('''\n",
    "    SELECT f_alias\n",
    "    , COUNT(result_pmax) AS exp_num\n",
    "    , string_agg(DISTINCT series_code, ', ' ORDER BY series_code) AS series\n",
    "    , string_agg(DISTINCT sel_type, ', ' ORDER BY sel_type) AS sel_types\n",
    "    FROM full_param_set\n",
    "    GROUP BY 1\n",
    "    ORDER BY 1\n",
    "''', conn)"
   ],
   "metadata": {
    "collapsed": false,
    "pycharm": {
     "name": "#%%\n"
    }
   }
  },
  {
   "cell_type": "markdown",
   "source": [
    "### thesis_gray database\n",
    "Database with gray encoding"
   ],
   "metadata": {
    "collapsed": false
   }
  },
  {
   "cell_type": "code",
   "execution_count": 4,
   "outputs": [
    {
     "data": {
      "text/plain": "              f_alias  exp_num                  series  \\\n0  shifted_rastrigins     1454  dec_gray, nov_main_1_1   \n1            sigma_50     1050                 dec_add   \n2           spherical     1139  dec_gray, nov_main_1_1   \n3     spherical_3term     1050                 dec_add   \n4         square_root     1115  dec_gray, nov_main_1_1   \n5                x_10     1050                 dec_add   \n6                 x_6      341            nov_main_1_1   \n\n                                           sel_types  \n0  ranking, sus, tournament_10, tournament_12, to...  \n1  ranking, sus, tournament_10, tournament_12, to...  \n2  ranking, sus, tournament_10, tournament_12, to...  \n3  ranking, sus, tournament_10, tournament_12, to...  \n4  ranking, sus, tournament_10, tournament_12, to...  \n5  ranking, sus, tournament_10, tournament_12, to...  \n6  ranking, sus, tournament_10, tournament_2, tou...  ",
      "text/html": "<div>\n<style scoped>\n    .dataframe tbody tr th:only-of-type {\n        vertical-align: middle;\n    }\n\n    .dataframe tbody tr th {\n        vertical-align: top;\n    }\n\n    .dataframe thead th {\n        text-align: right;\n    }\n</style>\n<table border=\"1\" class=\"dataframe\">\n  <thead>\n    <tr style=\"text-align: right;\">\n      <th></th>\n      <th>f_alias</th>\n      <th>exp_num</th>\n      <th>series</th>\n      <th>sel_types</th>\n    </tr>\n  </thead>\n  <tbody>\n    <tr>\n      <th>0</th>\n      <td>shifted_rastrigins</td>\n      <td>1454</td>\n      <td>dec_gray, nov_main_1_1</td>\n      <td>ranking, sus, tournament_10, tournament_12, to...</td>\n    </tr>\n    <tr>\n      <th>1</th>\n      <td>sigma_50</td>\n      <td>1050</td>\n      <td>dec_add</td>\n      <td>ranking, sus, tournament_10, tournament_12, to...</td>\n    </tr>\n    <tr>\n      <th>2</th>\n      <td>spherical</td>\n      <td>1139</td>\n      <td>dec_gray, nov_main_1_1</td>\n      <td>ranking, sus, tournament_10, tournament_12, to...</td>\n    </tr>\n    <tr>\n      <th>3</th>\n      <td>spherical_3term</td>\n      <td>1050</td>\n      <td>dec_add</td>\n      <td>ranking, sus, tournament_10, tournament_12, to...</td>\n    </tr>\n    <tr>\n      <th>4</th>\n      <td>square_root</td>\n      <td>1115</td>\n      <td>dec_gray, nov_main_1_1</td>\n      <td>ranking, sus, tournament_10, tournament_12, to...</td>\n    </tr>\n    <tr>\n      <th>5</th>\n      <td>x_10</td>\n      <td>1050</td>\n      <td>dec_add</td>\n      <td>ranking, sus, tournament_10, tournament_12, to...</td>\n    </tr>\n    <tr>\n      <th>6</th>\n      <td>x_6</td>\n      <td>341</td>\n      <td>nov_main_1_1</td>\n      <td>ranking, sus, tournament_10, tournament_2, tou...</td>\n    </tr>\n  </tbody>\n</table>\n</div>"
     },
     "execution_count": 4,
     "metadata": {},
     "output_type": "execute_result"
    }
   ],
   "source": [
    "#\n",
    "pd.read_sql('''\n",
    "    SELECT f_alias\n",
    "    , COUNT(result_pmax) AS exp_num\n",
    "    , string_agg(DISTINCT series_code, ', ' ORDER BY series_code) AS series\n",
    "    , string_agg(DISTINCT sel_type, ', ' ORDER BY sel_type) AS sel_types\n",
    "    FROM full_param_set\n",
    "    GROUP BY 1\n",
    "    ORDER BY 1\n",
    "''', conn_gray)"
   ],
   "metadata": {
    "collapsed": false,
    "pycharm": {
     "name": "#%%\n"
    }
   }
  },
  {
   "cell_type": "markdown",
   "source": [
    "### L, N, sel_type"
   ],
   "metadata": {
    "collapsed": false
   }
  },
  {
   "cell_type": "code",
   "execution_count": 5,
   "outputs": [],
   "source": [
    "# Possible N values:\n",
    "ns = [26, 34, 44, 58, 76, 100, 130, 170, 200, 220, 286, 372, 400, 484, 630, 818, 1064]\n",
    "\n",
    "# Possible L values:\n",
    "ls = [10, 20, 30, 40, 50, 60, 70, 80, 90, 100, 150, 200, 300]\n",
    "\n",
    "# Possible types of selection:\n",
    "sels = ['ranking', 'sus', 'tournament_2', 'tournament_4', 'tournament_10', 'tournament_12', 'tournament_20']"
   ],
   "metadata": {
    "collapsed": false,
    "pycharm": {
     "name": "#%%\n"
    }
   }
  }
 ],
 "metadata": {
  "kernelspec": {
   "display_name": "Python 3",
   "language": "python",
   "name": "python3"
  },
  "language_info": {
   "codemirror_mode": {
    "name": "ipython",
    "version": 2
   },
   "file_extension": ".py",
   "mimetype": "text/x-python",
   "name": "python",
   "nbconvert_exporter": "python",
   "pygments_lexer": "ipython2",
   "version": "2.7.6"
  }
 },
 "nbformat": 4,
 "nbformat_minor": 0
}